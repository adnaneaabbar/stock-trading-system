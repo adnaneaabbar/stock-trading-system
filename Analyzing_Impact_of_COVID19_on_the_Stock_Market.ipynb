{
  "nbformat": 4,
  "nbformat_minor": 0,
  "metadata": {
    "colab": {
      "name": "Analyzing_Impact_of_COVID19_on_the_Stock_Market.ipynb",
      "provenance": [],
      "authorship_tag": "ABX9TyOmmtQiP1pog/teB7fHj2I2",
      "include_colab_link": true
    },
    "kernelspec": {
      "name": "python3",
      "display_name": "Python 3"
    }
  },
  "cells": [
    {
      "cell_type": "markdown",
      "metadata": {
        "id": "view-in-github",
        "colab_type": "text"
      },
      "source": [
        "<a href=\"https://colab.research.google.com/github/adnaneaabbar/stock-trading-system/blob/master/Analyzing_Impact_of_COVID19_on_the_Stock_Market.ipynb\" target=\"_parent\"><img src=\"https://colab.research.google.com/assets/colab-badge.svg\" alt=\"Open In Colab\"/></a>"
      ]
    },
    {
      "cell_type": "markdown",
      "metadata": {
        "id": "S2_oQ9JNUKwy",
        "colab_type": "text"
      },
      "source": [
        "# Stock Market Analytics with PCA ou ACP en français\n",
        "\n",
        "### From Principal Component Analysis (PCA) to Capital Asset Pricing Models (CAPM)"
      ]
    },
    {
      "cell_type": "markdown",
      "metadata": {
        "id": "mvh0dqLNUK6_",
        "colab_type": "text"
      },
      "source": [
        "L'analyse en composantes principales (ACP) est un puissant outil d'analyse de données utilisé dans de nombreux domaines de l'apprentissage automatique. Cependant, malgré sa polyvalence et son efficacité, son application en finance n'est pas aussi largement discutée."
      ]
    },
    {
      "cell_type": "markdown",
      "metadata": {
        "id": "_IGZAAjiUK9f",
        "colab_type": "text"
      },
      "source": [
        "# PCA\n",
        "\n",
        "\n",
        "```\n",
        "La première composante principale explique la majeure partie de la variance des données.\n",
        "```\n",
        "\n",
        "En résumé, l'analyse en composantes principales (ACP) décompose les données en de nombreux vecteurs appelés composants principaux qui «résument» essentiellement les données. Plus précisément, ces résumés sont des combinaisons linéaires des caractéristiques d'entrée qui tentent d'expliquer autant de variance que possible dans les données. Par convention, ces composantes principales sont classées selon la quantité de variance qu'elles peuvent expliquer, la première composante principale expliquant la plupart des données.\n",
        "\n"
      ]
    },
    {
      "cell_type": "markdown",
      "metadata": {
        "id": "FMgheo1EULAI",
        "colab_type": "text"
      },
      "source": [
        "# CAPM\n",
        "\n",
        "\n",
        "```\n",
        "Les rendements d'une action peuvent être décomposés en: (1) les rendements de l'actif sans risque, (2) les rendements du facteur de marché, et (3) les rendements idiosyncrasiques de l'action. Dans l'ensemble, le facteur du marché est le principal moteur de tous les rendements boursiers.\n",
        "```\n",
        "Le Capital Asset Pricing Model (CAPM) est un cadre célèbre pour la tarification des rendements d'un actif tel qu'une action, avec de nombreux liens intéressants avec la théorie moderne du portefeuille."
      ]
    },
    {
      "cell_type": "markdown",
      "metadata": {
        "id": "n9APbC17ULCv",
        "colab_type": "text"
      },
      "source": [
        "Avant de plonger dans les détails du CAPM, il est important de comprendre la notion d'actifs sans risque et le facteur marché. Un actif sans risque est essentiellement un actif qui peut vous donner des rendements pratiquement sans risque (par exemple une obligation gouvernementale). Le facteur de marché surveille plutôt l'état de l'ensemble du marché boursier dans son ensemble et est souvent mesuré par un indice tel que le S&P500. D'une manière générale, le marché global est plus volatil/risqué que les obligations d'État, mais il offre également plus de rendements aux investisseurs."
      ]
    },
    {
      "cell_type": "markdown",
      "metadata": {
        "id": "b2QVv5c7ULHP",
        "colab_type": "text"
      },
      "source": [
        "En gardant ces définitions à l'esprit, examinons le concept de la Security Market Line (SML) de CAPM. En pratique, SML décompose les rendements d'un stock `r_i` en trois facteurs principaux:\n",
        "\n",
        "`r_f` : retour sans risque\n",
        "\n",
        "`beta_i * (r_m-r_f)` : rendement du facteur de marché\n",
        "\n",
        "`e_i` : retour idiosyncrasique\n",
        "\n",
        "![image.png](https://miro.medium.com/max/700/1*MdZwuj2DCJ307Yi-LSzcSg.png)"
      ]
    },
    {
      "cell_type": "markdown",
      "metadata": {
        "id": "6vXVyS7SULNY",
        "colab_type": "text"
      },
      "source": [
        "L'intuition derrière cette équation est que:\n",
        "\n",
        "`(1)` le retour d'un stock doit être au moins égal au retour de l'actif sans risque (sinon pourquoi prendre le risque supplémentaire en premier lieu?)\n",
        "\n",
        "`(2)` le rendement de l'actif s'explique également par le facteur de marché, qui est saisi par le terme `(r_m-r_f)` (mesure le rendement excédentaire du marché par rapport à l'actif sans risque) et `beta_i` (mesure le degré auquel l'actif est affecté par le facteur de marché).\n",
        "\n",
        "`(3)` le retour d'un stock est également affecté par des facteurs idiosyncratiques, qui sont des facteurs spécifiques au stock (par exemple, la publication des bénéfices d'un stock affecte uniquement ce stock individuel, mais pas le marché global).\n",
        "\n",
        "Empiriquement parlant, le facteur de marché est le principal moteur des rendements boursiers, car il a tendance à expliquer la plupart des rendements de toute action donnée dans un jour donné."
      ]
    },
    {
      "cell_type": "markdown",
      "metadata": {
        "id": "gtNR7DgwULFh",
        "colab_type": "text"
      },
      "source": [
        ""
      ]
    }
  ]
}