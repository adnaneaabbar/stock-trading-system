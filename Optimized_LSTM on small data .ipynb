{
 "cells": [
  {
   "cell_type": "code",
   "execution_count": 3,
   "metadata": {
    "colab": {},
    "colab_type": "code",
    "id": "nkS7GwLJEbas"
   },
   "outputs": [],
   "source": [
    "import math\n",
    "import pandas_datareader as web\n",
    "import numpy as np\n",
    "import pandas as pd\n",
    "from sklearn.preprocessing import MinMaxScaler\n",
    "from keras.models import Sequential\n",
    "from keras.layers import Dense,LSTM\n",
    "import matplotlib.pyplot as plt\n"
   ]
  },
  {
   "cell_type": "code",
   "execution_count": 4,
   "metadata": {
    "colab": {},
    "colab_type": "code",
    "id": "OULBX19OxnmW"
   },
   "outputs": [
    {
     "data": {
      "text/html": [
       "<div>\n",
       "<style scoped>\n",
       "    .dataframe tbody tr th:only-of-type {\n",
       "        vertical-align: middle;\n",
       "    }\n",
       "\n",
       "    .dataframe tbody tr th {\n",
       "        vertical-align: top;\n",
       "    }\n",
       "\n",
       "    .dataframe thead th {\n",
       "        text-align: right;\n",
       "    }\n",
       "</style>\n",
       "<table border=\"1\" class=\"dataframe\">\n",
       "  <thead>\n",
       "    <tr style=\"text-align: right;\">\n",
       "      <th></th>\n",
       "      <th>High</th>\n",
       "      <th>Low</th>\n",
       "      <th>Open</th>\n",
       "      <th>Close</th>\n",
       "      <th>Volume</th>\n",
       "      <th>Adj Close</th>\n",
       "    </tr>\n",
       "    <tr>\n",
       "      <th>Date</th>\n",
       "      <th></th>\n",
       "      <th></th>\n",
       "      <th></th>\n",
       "      <th></th>\n",
       "      <th></th>\n",
       "      <th></th>\n",
       "    </tr>\n",
       "  </thead>\n",
       "  <tbody>\n",
       "    <tr>\n",
       "      <th>2012-01-03</th>\n",
       "      <td>96.430000</td>\n",
       "      <td>92.830002</td>\n",
       "      <td>92.970001</td>\n",
       "      <td>95.360001</td>\n",
       "      <td>8645200.0</td>\n",
       "      <td>83.733528</td>\n",
       "    </tr>\n",
       "    <tr>\n",
       "      <th>2012-01-04</th>\n",
       "      <td>95.129997</td>\n",
       "      <td>93.680000</td>\n",
       "      <td>94.730003</td>\n",
       "      <td>94.739998</td>\n",
       "      <td>7406200.0</td>\n",
       "      <td>83.189133</td>\n",
       "    </tr>\n",
       "    <tr>\n",
       "      <th>2012-01-05</th>\n",
       "      <td>95.800003</td>\n",
       "      <td>92.500000</td>\n",
       "      <td>93.949997</td>\n",
       "      <td>94.580002</td>\n",
       "      <td>8131300.0</td>\n",
       "      <td>83.048645</td>\n",
       "    </tr>\n",
       "    <tr>\n",
       "      <th>2012-01-06</th>\n",
       "      <td>93.959999</td>\n",
       "      <td>92.419998</td>\n",
       "      <td>93.800003</td>\n",
       "      <td>93.419998</td>\n",
       "      <td>5940900.0</td>\n",
       "      <td>82.030060</td>\n",
       "    </tr>\n",
       "    <tr>\n",
       "      <th>2012-01-09</th>\n",
       "      <td>95.110001</td>\n",
       "      <td>92.959999</td>\n",
       "      <td>93.489998</td>\n",
       "      <td>94.690002</td>\n",
       "      <td>5018200.0</td>\n",
       "      <td>83.145218</td>\n",
       "    </tr>\n",
       "    <tr>\n",
       "      <th>...</th>\n",
       "      <td>...</td>\n",
       "      <td>...</td>\n",
       "      <td>...</td>\n",
       "      <td>...</td>\n",
       "      <td>...</td>\n",
       "      <td>...</td>\n",
       "    </tr>\n",
       "    <tr>\n",
       "      <th>2019-12-11</th>\n",
       "      <td>222.850006</td>\n",
       "      <td>220.839996</td>\n",
       "      <td>222.250000</td>\n",
       "      <td>221.190002</td>\n",
       "      <td>1778600.0</td>\n",
       "      <td>218.480103</td>\n",
       "    </tr>\n",
       "    <tr>\n",
       "      <th>2019-12-12</th>\n",
       "      <td>226.779999</td>\n",
       "      <td>220.600006</td>\n",
       "      <td>221.910004</td>\n",
       "      <td>226.050003</td>\n",
       "      <td>2974300.0</td>\n",
       "      <td>223.280548</td>\n",
       "    </tr>\n",
       "    <tr>\n",
       "      <th>2019-12-13</th>\n",
       "      <td>227.990005</td>\n",
       "      <td>223.699997</td>\n",
       "      <td>226.720001</td>\n",
       "      <td>225.000000</td>\n",
       "      <td>1908200.0</td>\n",
       "      <td>222.243408</td>\n",
       "    </tr>\n",
       "    <tr>\n",
       "      <th>2019-12-16</th>\n",
       "      <td>230.699997</td>\n",
       "      <td>227.869995</td>\n",
       "      <td>228.500000</td>\n",
       "      <td>228.039993</td>\n",
       "      <td>3218400.0</td>\n",
       "      <td>225.246170</td>\n",
       "    </tr>\n",
       "    <tr>\n",
       "      <th>2019-12-17</th>\n",
       "      <td>232.070007</td>\n",
       "      <td>228.800003</td>\n",
       "      <td>230.000000</td>\n",
       "      <td>231.149994</td>\n",
       "      <td>3590000.0</td>\n",
       "      <td>228.318069</td>\n",
       "    </tr>\n",
       "  </tbody>\n",
       "</table>\n",
       "<p>2003 rows × 6 columns</p>\n",
       "</div>"
      ],
      "text/plain": [
       "                  High         Low        Open       Close     Volume  \\\n",
       "Date                                                                    \n",
       "2012-01-03   96.430000   92.830002   92.970001   95.360001  8645200.0   \n",
       "2012-01-04   95.129997   93.680000   94.730003   94.739998  7406200.0   \n",
       "2012-01-05   95.800003   92.500000   93.949997   94.580002  8131300.0   \n",
       "2012-01-06   93.959999   92.419998   93.800003   93.419998  5940900.0   \n",
       "2012-01-09   95.110001   92.959999   93.489998   94.690002  5018200.0   \n",
       "...                ...         ...         ...         ...        ...   \n",
       "2019-12-11  222.850006  220.839996  222.250000  221.190002  1778600.0   \n",
       "2019-12-12  226.779999  220.600006  221.910004  226.050003  2974300.0   \n",
       "2019-12-13  227.990005  223.699997  226.720001  225.000000  1908200.0   \n",
       "2019-12-16  230.699997  227.869995  228.500000  228.039993  3218400.0   \n",
       "2019-12-17  232.070007  228.800003  230.000000  231.149994  3590000.0   \n",
       "\n",
       "             Adj Close  \n",
       "Date                    \n",
       "2012-01-03   83.733528  \n",
       "2012-01-04   83.189133  \n",
       "2012-01-05   83.048645  \n",
       "2012-01-06   82.030060  \n",
       "2012-01-09   83.145218  \n",
       "...                ...  \n",
       "2019-12-11  218.480103  \n",
       "2019-12-12  223.280548  \n",
       "2019-12-13  222.243408  \n",
       "2019-12-16  225.246170  \n",
       "2019-12-17  228.318069  \n",
       "\n",
       "[2003 rows x 6 columns]"
      ]
     },
     "execution_count": 4,
     "metadata": {},
     "output_type": "execute_result"
    }
   ],
   "source": [
    "df = web.DataReader('GS', data_source='yahoo', start='2012-01-01', end='2019-12-17' )\n",
    "df"
   ]
  },
  {
   "cell_type": "code",
   "execution_count": 5,
   "metadata": {
    "colab": {},
    "colab_type": "code",
    "id": "WuhkJkknyAPr"
   },
   "outputs": [
    {
     "data": {
      "text/plain": [
       "(2003, 6)"
      ]
     },
     "execution_count": 5,
     "metadata": {},
     "output_type": "execute_result"
    }
   ],
   "source": [
    "df.shape"
   ]
  },
  {
   "cell_type": "code",
   "execution_count": 6,
   "metadata": {
    "colab": {},
    "colab_type": "code",
    "id": "7uJ8y-RZyD0r"
   },
   "outputs": [
    {
     "data": {
      "image/png": "[encoded data removed]",
      "text/plain": [
       "<Figure size 1152x576 with 1 Axes>"
      ]
     },
     "metadata": {
      "needs_background": "light"
     },
     "output_type": "display_data"
    }
   ],
   "source": [
    "plt.figure(figsize=(16,8))\n",
    "plt.title('Close Price History')\n",
    "plt.plot(df['Close'])\n",
    "plt.xlabel('Date', fontsize=18)\n",
    "plt.ylabel('Close price USD ($)', fontsize=18)\n",
    "plt.show()"
   ]
  },
  {
   "cell_type": "code",
   "execution_count": 7,
   "metadata": {
    "colab": {},
    "colab_type": "code",
    "id": "qdXCKuRtykP8"
   },
   "outputs": [
    {
     "data": {
      "text/plain": [
       "1603"
      ]
     },
     "execution_count": 7,
     "metadata": {},
     "output_type": "execute_result"
    }
   ],
   "source": [
    "data = df.filter(['Close'])\n",
    "dataset = data.values\n",
    "\n",
    "#get the number of rows to train the model on\n",
    "training_data_len = math.ceil(len(dataset) * .8)\n",
    "\n",
    "training_data_len"
   ]
  },
  {
   "cell_type": "code",
   "execution_count": 8,
   "metadata": {
    "colab": {},
    "colab_type": "code",
    "id": "1RMvprM2zD8y"
   },
   "outputs": [
    {
     "data": {
      "text/plain": [
       "array([[0.02390613],\n",
       "       [0.02050662],\n",
       "       [0.01962935],\n",
       "       ...,\n",
       "       [0.73472967],\n",
       "       [0.75139812],\n",
       "       [0.76845043]])"
      ]
     },
     "execution_count": 8,
     "metadata": {},
     "output_type": "execute_result"
    }
   ],
   "source": [
    "#scale the data\n",
    "scaler = MinMaxScaler(feature_range=(0,1))\n",
    "scaled_data = scaler.fit_transform(dataset)\n",
    "\n",
    "scaled_data"
   ]
  },
  {
   "cell_type": "code",
   "execution_count": 9,
   "metadata": {
    "colab": {},
    "colab_type": "code",
    "id": "rnFmqGkm14Th"
   },
   "outputs": [
    {
     "name": "stderr",
     "output_type": "stream",
     "text": [
      "100%|██████████████████████████████████████████████████████████████████████████| 1543/1543 [00:00<00:00, 386838.68it/s]"
     ]
    },
    {
     "name": "stdout",
     "output_type": "stream",
     "text": [
      "[array([0.02390613, 0.02050662, 0.01962935, 0.01326899, 0.02023249,\n",
      "       0.04019082, 0.04803159, 0.05598201, 0.04364513, 0.03662682,\n",
      "       0.07297948, 0.0914574 , 0.09726942, 0.09425377, 0.09798225,\n",
      "       0.09469238, 0.09628247, 0.11388308, 0.10269768, 0.11223819,\n",
      "       0.12309462, 0.12276565, 0.1454655 , 0.14469788, 0.13696679,\n",
      "       0.1378989 , 0.13641845, 0.1267683 , 0.12901633, 0.11991448,\n",
      "       0.12155937, 0.13016777, 0.13658298, 0.14053074, 0.12808422,\n",
      "       0.13597984, 0.13636365, 0.13833755, 0.14316263, 0.132361  ,\n",
      "       0.1652045 , 0.15878933, 0.15149686, 0.1243009 , 0.13926966,\n",
      "       0.1434916 , 0.14414958, 0.14250465, 0.18390174, 0.16103741,\n",
      "       0.1757868 , 0.17507402, 0.18258582, 0.19201664, 0.19185216,\n",
      "       0.18499834, 0.19289395, 0.20325697, 0.19371642, 0.19388091])]\n",
      "[0.17962496578109133]\n",
      "[array([0.02390613, 0.02050662, 0.01962935, 0.01326899, 0.02023249,\n",
      "       0.04019082, 0.04803159, 0.05598201, 0.04364513, 0.03662682,\n",
      "       0.07297948, 0.0914574 , 0.09726942, 0.09425377, 0.09798225,\n",
      "       0.09469238, 0.09628247, 0.11388308, 0.10269768, 0.11223819,\n",
      "       0.12309462, 0.12276565, 0.1454655 , 0.14469788, 0.13696679,\n",
      "       0.1378989 , 0.13641845, 0.1267683 , 0.12901633, 0.11991448,\n",
      "       0.12155937, 0.13016777, 0.13658298, 0.14053074, 0.12808422,\n",
      "       0.13597984, 0.13636365, 0.13833755, 0.14316263, 0.132361  ,\n",
      "       0.1652045 , 0.15878933, 0.15149686, 0.1243009 , 0.13926966,\n",
      "       0.1434916 , 0.14414958, 0.14250465, 0.18390174, 0.16103741,\n",
      "       0.1757868 , 0.17507402, 0.18258582, 0.19201664, 0.19185216,\n",
      "       0.18499834, 0.19289395, 0.20325697, 0.19371642, 0.19388091]), array([0.02050662, 0.01962935, 0.01326899, 0.02023249, 0.04019082,\n",
      "       0.04803159, 0.05598201, 0.04364513, 0.03662682, 0.07297948,\n",
      "       0.0914574 , 0.09726942, 0.09425377, 0.09798225, 0.09469238,\n",
      "       0.09628247, 0.11388308, 0.10269768, 0.11223819, 0.12309462,\n",
      "       0.12276565, 0.1454655 , 0.14469788, 0.13696679, 0.1378989 ,\n",
      "       0.13641845, 0.1267683 , 0.12901633, 0.11991448, 0.12155937,\n",
      "       0.13016777, 0.13658298, 0.14053074, 0.12808422, 0.13597984,\n",
      "       0.13636365, 0.13833755, 0.14316263, 0.132361  , 0.1652045 ,\n",
      "       0.15878933, 0.15149686, 0.1243009 , 0.13926966, 0.1434916 ,\n",
      "       0.14414958, 0.14250465, 0.18390174, 0.16103741, 0.1757868 ,\n",
      "       0.17507402, 0.18258582, 0.19201664, 0.19185216, 0.18499834,\n",
      "       0.19289395, 0.20325697, 0.19371642, 0.19388091, 0.17962497])]\n",
      "[0.17962496578109133, 0.18296963402333377]\n"
     ]
    },
    {
     "name": "stderr",
     "output_type": "stream",
     "text": [
      "\n"
     ]
    }
   ],
   "source": [
    "#create the training dataset\n",
    "from tqdm import tqdm\n",
    "\n",
    "train_data = scaled_data[0:training_data_len, :]\n",
    "x_train = []\n",
    "y_train = []\n",
    "\n",
    "for i in tqdm(range(60, len(train_data))):\n",
    "  x_train.append(train_data[i-60:i, 0])\n",
    "  y_train.append(train_data[i, 0])\n",
    "  if i<=61 :\n",
    "    print(x_train)\n",
    "    print(y_train)\n",
    "\n",
    "\n"
   ]
  },
  {
   "cell_type": "code",
   "execution_count": 10,
   "metadata": {
    "colab": {},
    "colab_type": "code",
    "id": "l-89zjzB3lIL"
   },
   "outputs": [],
   "source": [
    " x_train, y_train = np.array(x_train),np.array(y_train)"
   ]
  },
  {
   "cell_type": "code",
   "execution_count": 11,
   "metadata": {
    "colab": {},
    "colab_type": "code",
    "id": "u43Smlp06WAP"
   },
   "outputs": [
    {
     "data": {
      "text/plain": [
       "(1543, 60, 1)"
      ]
     },
     "execution_count": 11,
     "metadata": {},
     "output_type": "execute_result"
    }
   ],
   "source": [
    "x_train = np.reshape(x_train, (x_train.shape[0], x_train.shape[1], 1))\n",
    "x_train.shape"
   ]
  },
  {
   "cell_type": "code",
   "execution_count": 12,
   "metadata": {
    "colab": {},
    "colab_type": "code",
    "id": "KlHJHSZm6dRi"
   },
   "outputs": [],
   "source": [
    "#Build the LSTM Model\n",
    "\n",
    "model = Sequential()\n",
    "model.add(LSTM(50, return_sequences=True, input_shape = (x_train.shape[1],1)))\n",
    "model.add(LSTM(50, return_sequences=False))\n",
    "\n",
    "model.add(Dense(units = 1024))\n",
    "model.add(Dense(units = 512))\n",
    "model.add(Dense(units = 256))\n",
    "model.add(Dense(units = 128))\n",
    "model.add(Dense(units = 64))\n",
    "model.add(Dense(1))\n",
    "\n"
   ]
  },
  {
   "cell_type": "code",
   "execution_count": 13,
   "metadata": {
    "colab": {},
    "colab_type": "code",
    "id": "r_q2RPmU7RHz"
   },
   "outputs": [],
   "source": [
    "model.compile(optimizer='adam', loss='mean_squared_error')\n"
   ]
  },
  {
   "cell_type": "code",
   "execution_count": 14,
   "metadata": {
    "colab": {},
    "colab_type": "code",
    "id": "rHuyzEzf7gAZ"
   },
   "outputs": [
    {
     "name": "stdout",
     "output_type": "stream",
     "text": [
      "Epoch 1/100\n",
      "1543/1543 [==============================] - 142s 92ms/step - loss: 0.0070\n",
      "Epoch 2/100\n",
      "1543/1543 [==============================] - 130s 85ms/step - loss: 0.0089\n",
      "Epoch 3/100\n",
      "1543/1543 [==============================] - 133s 86ms/step - loss: 0.0033\n",
      "Epoch 4/100\n",
      "1543/1543 [==============================] - 130s 84ms/step - loss: 0.0168\n",
      "Epoch 5/100\n",
      "1543/1543 [==============================] - 119s 77ms/step - loss: 0.0017\n",
      "Epoch 6/100\n",
      "1543/1543 [==============================] - 89s 58ms/step - loss: 0.0017\n",
      "Epoch 7/100\n",
      "1543/1543 [==============================] - 83s 54ms/step - loss: 0.0065\n",
      "Epoch 8/100\n",
      "1543/1543 [==============================] - 75s 49ms/step - loss: 0.0024\n",
      "Epoch 9/100\n",
      "1543/1543 [==============================] - 78s 51ms/step - loss: 0.0044\n",
      "Epoch 10/100\n",
      "1543/1543 [==============================] - 84s 54ms/step - loss: 8.3273e-04\n",
      "Epoch 11/100\n",
      "1543/1543 [==============================] - 74s 48ms/step - loss: 0.0017\n",
      "Epoch 12/100\n",
      "1543/1543 [==============================] - 70s 45ms/step - loss: 8.8658e-04\n",
      "Epoch 13/100\n",
      "1543/1543 [==============================] - 69s 45ms/step - loss: 0.0019 0s - loss: 0.00\n",
      "Epoch 14/100\n",
      "1543/1543 [==============================] - 75s 48ms/step - loss: 0.0018\n",
      "Epoch 15/100\n",
      "1543/1543 [==============================] - 88s 57ms/step - loss: 0.0026\n",
      "Epoch 16/100\n",
      "1543/1543 [==============================] - 88s 57ms/step - loss: 6.6790e-04\n",
      "Epoch 17/100\n",
      "1543/1543 [==============================] - 90s 58ms/step - loss: 0.0016\n",
      "Epoch 18/100\n",
      "1543/1543 [==============================] - 99s 64ms/step - loss: 6.2778e-04 1s - loss: 6 - ETA:\n",
      "Epoch 19/100\n",
      "1543/1543 [==============================] - 85s 55ms/step - loss: 0.0032\n",
      "Epoch 20/100\n",
      "1543/1543 [==============================] - 91s 59ms/step - loss: 5.7450e-04\n",
      "Epoch 21/100\n",
      "1543/1543 [==============================] - 87s 57ms/step - loss: 6.5188e-04\n",
      "Epoch 22/100\n",
      "1543/1543 [==============================] - 81s 52ms/step - loss: 7.4627e-04\n",
      "Epoch 23/100\n",
      "1543/1543 [==============================] - 85s 55ms/step - loss: 4.7807e-04\n",
      "Epoch 24/100\n",
      "1543/1543 [==============================] - 88s 57ms/step - loss: 0.0013\n",
      "Epoch 25/100\n",
      "1543/1543 [==============================] - 89s 57ms/step - loss: 5.0583e-04\n",
      "Epoch 26/100\n",
      "1543/1543 [==============================] - 76s 49ms/step - loss: 5.3654e-04\n",
      "Epoch 27/100\n",
      "1543/1543 [==============================] - 87s 56ms/step - loss: 9.0788e-04\n",
      "Epoch 28/100\n",
      "1543/1543 [==============================] - 84s 55ms/step - loss: 4.2138e-04\n",
      "Epoch 29/100\n",
      "1543/1543 [==============================] - 78s 50ms/step - loss: 0.0014\n",
      "Epoch 30/100\n",
      "1543/1543 [==============================] - 95s 61ms/step - loss: 4.3047e-04 0s - loss: 4.3 - ETA: 0s - loss: 4.3067e-0\n",
      "Epoch 31/100\n",
      "1543/1543 [==============================] - 80s 52ms/step - loss: 4.8665e-04\n",
      "Epoch 32/100\n",
      "1543/1543 [==============================] - 78s 51ms/step - loss: 6.9995e-04\n",
      "Epoch 33/100\n",
      "1543/1543 [==============================] - 79s 51ms/step - loss: 0.0014\n",
      "Epoch 34/100\n",
      "1543/1543 [==============================] - 80s 52ms/step - loss: 5.3224e-04 - ETA: 0s -  - ETA: 0s - loss: 5.3160e-\n",
      "Epoch 35/100\n",
      "1543/1543 [==============================] - 73s 47ms/step - loss: 5.8063e-04\n",
      "Epoch 36/100\n",
      "1543/1543 [==============================] - 69s 45ms/step - loss: 4.4758e-04\n",
      "Epoch 37/100\n",
      "1543/1543 [==============================] - 70s 46ms/step - loss: 0.0011\n",
      "Epoch 38/100\n",
      "1543/1543 [==============================] - 68s 44ms/step - loss: 4.8672e-04\n",
      "Epoch 39/100\n",
      "1543/1543 [==============================] - 68s 44ms/step - loss: 5.3763e-04\n",
      "Epoch 40/100\n",
      "1543/1543 [==============================] - 68s 44ms/step - loss: 0.0021\n",
      "Epoch 41/100\n",
      "1543/1543 [==============================] - 68s 44ms/step - loss: 4.1874e-04\n",
      "Epoch 42/100\n",
      "1543/1543 [==============================] - 68s 44ms/step - loss: 4.1188e-04\n",
      "Epoch 43/100\n",
      "1543/1543 [==============================] - 68s 44ms/step - loss: 4.6438e-04\n",
      "Epoch 44/100\n",
      "1543/1543 [==============================] - 510s 330ms/step - loss: 4.5018e-04\n",
      "Epoch 45/100\n",
      "1543/1543 [==============================] - 86s 56ms/step - loss: 4.2348e-04\n",
      "Epoch 46/100\n",
      "1543/1543 [==============================] - 86s 56ms/step - loss: 0.0017 0s - loss: 0.\n",
      "Epoch 47/100\n",
      "1543/1543 [==============================] - 87s 57ms/step - loss: 4.0884e-04\n",
      "Epoch 48/100\n",
      "1543/1543 [==============================] - 78s 50ms/step - loss: 4.9200e-04\n",
      "Epoch 49/100\n",
      "1543/1543 [==============================] - 83s 54ms/step - loss: 3.8034e-04\n",
      "Epoch 50/100\n",
      "1543/1543 [==============================] - 83s 54ms/step - loss: 4.4855e-04\n",
      "Epoch 51/100\n",
      "1543/1543 [==============================] - 84s 54ms/step - loss: 5.1862e-04\n",
      "Epoch 52/100\n",
      "1543/1543 [==============================] - 74s 48ms/step - loss: 3.6113e-04\n",
      "Epoch 53/100\n",
      "1543/1543 [==============================] - 75s 49ms/step - loss: 3.5380e-04\n",
      "Epoch 54/100\n",
      "1543/1543 [==============================] - 75s 48ms/step - loss: 0.0014\n",
      "Epoch 55/100\n",
      "1543/1543 [==============================] - 78s 50ms/step - loss: 3.4815e-04 0s - loss: 3.47\n",
      "Epoch 56/100\n",
      "1543/1543 [==============================] - 75s 49ms/step - loss: 4.0873e-04\n",
      "Epoch 57/100\n",
      "1543/1543 [==============================] - 78s 50ms/step - loss: 3.5655e-04\n",
      "Epoch 58/100\n",
      "1543/1543 [==============================] - 75s 49ms/step - loss: 5.2676e-04\n",
      "Epoch 59/100\n",
      "1543/1543 [==============================] - 75s 49ms/step - loss: 0.0013\n",
      "Epoch 60/100\n",
      "1543/1543 [==============================] - 73s 47ms/step - loss: 0.0083\n",
      "Epoch 61/100\n",
      "1543/1543 [==============================] - 77s 50ms/step - loss: 6.3159e-04\n",
      "Epoch 62/100\n",
      "1543/1543 [==============================] - 74s 48ms/step - loss: 5.6744e-04\n",
      "Epoch 63/100\n",
      "1543/1543 [==============================] - 80s 52ms/step - loss: 4.7889e-04\n",
      "Epoch 64/100\n",
      "1543/1543 [==============================] - 74s 48ms/step - loss: 5.8175e-04\n",
      "Epoch 65/100\n",
      "1543/1543 [==============================] - 78s 50ms/step - loss: 3.7798e-04\n",
      "Epoch 66/100\n",
      "1543/1543 [==============================] - 75s 49ms/step - loss: 0.0016\n",
      "Epoch 67/100\n",
      "1543/1543 [==============================] - 77s 50ms/step - loss: 3.6419e-04\n",
      "Epoch 68/100\n",
      "1543/1543 [==============================] - 72s 47ms/step - loss: 4.0865e-04\n",
      "Epoch 69/100\n",
      "1543/1543 [==============================] - 75s 48ms/step - loss: 5.4494e-04\n",
      "Epoch 70/100\n",
      "1543/1543 [==============================] - 76s 50ms/step - loss: 3.7067e-04\n",
      "Epoch 71/100\n",
      "1543/1543 [==============================] - 78s 50ms/step - loss: 3.7145e-04\n",
      "Epoch 72/100\n",
      "1543/1543 [==============================] - 74s 48ms/step - loss: 3.5769e-04\n",
      "Epoch 73/100\n",
      "1543/1543 [==============================] - 78s 50ms/step - loss: 0.0026\n",
      "Epoch 74/100\n",
      "1543/1543 [==============================] - 76s 49ms/step - loss: 3.7555e-04 1s\n",
      "Epoch 75/100\n",
      "1543/1543 [==============================] - 74s 48ms/step - loss: 4.0876e-04\n",
      "Epoch 76/100\n",
      "1543/1543 [==============================] - 78s 50ms/step - loss: 4.1610e-04\n",
      "Epoch 77/100\n",
      "1543/1543 [==============================] - 67s 44ms/step - loss: 3.9672e-04\n",
      "Epoch 78/100\n",
      "1543/1543 [==============================] - 69s 44ms/step - loss: 3.4239e-04\n",
      "Epoch 79/100\n",
      "1543/1543 [==============================] - 70s 45ms/step - loss: 3.6837e-04\n",
      "Epoch 80/100\n",
      "1543/1543 [==============================] - 69s 44ms/step - loss: 4.4847e-04 1\n",
      "Epoch 81/100\n",
      "1543/1543 [==============================] - 67s 43ms/step - loss: 3.5109e-04 1s - \n",
      "Epoch 82/100\n",
      "1543/1543 [==============================] - 71s 46ms/step - loss: 3.5307e-04\n",
      "Epoch 83/100\n",
      "1543/1543 [==============================] - 74s 48ms/step - loss: 4.1176e-04\n",
      "Epoch 84/100\n",
      "1543/1543 [==============================] - 78s 51ms/step - loss: 3.2817e-04 0s - loss: 3.2864e\n",
      "Epoch 85/100\n",
      "1543/1543 [==============================] - 75s 49ms/step - loss: 0.0020\n",
      "Epoch 86/100\n",
      "1543/1543 [==============================] - 75s 49ms/step - loss: 3.8748e-04\n",
      "Epoch 87/100\n",
      "1543/1543 [==============================] - 80s 52ms/step - loss: 3.9487e-04\n",
      "Epoch 88/100\n",
      "1543/1543 [==============================] - 76s 50ms/step - loss: 3.4839e-04\n",
      "Epoch 89/100\n",
      "1543/1543 [==============================] - 68s 44ms/step - loss: 3.5726e-04\n",
      "Epoch 90/100\n"
     ]
    },
    {
     "name": "stdout",
     "output_type": "stream",
     "text": [
      "1543/1543 [==============================] - 73s 47ms/step - loss: 4.2150e-04\n",
      "Epoch 91/100\n",
      "1543/1543 [==============================] - 78s 51ms/step - loss: 3.1990e-04\n",
      "Epoch 92/100\n",
      "1543/1543 [==============================] - 72s 47ms/step - loss: 0.0018\n",
      "Epoch 93/100\n",
      "1543/1543 [==============================] - 78s 51ms/step - loss: 4.4930e-04\n",
      "Epoch 94/100\n",
      "1543/1543 [==============================] - 75s 49ms/step - loss: 4.1773e-04\n",
      "Epoch 95/100\n",
      "1543/1543 [==============================] - 77s 50ms/step - loss: 3.8990e-04\n",
      "Epoch 96/100\n",
      "1543/1543 [==============================] - 78s 50ms/step - loss: 3.5545e-04\n",
      "Epoch 97/100\n",
      "1543/1543 [==============================] - 76s 49ms/step - loss: 3.7806e-04\n",
      "Epoch 98/100\n",
      "1543/1543 [==============================] - 76s 49ms/step - loss: 9.5812e-04\n",
      "Epoch 99/100\n",
      "1543/1543 [==============================] - 81s 52ms/step - loss: 3.4796e-04\n",
      "Epoch 100/100\n",
      "1543/1543 [==============================] - 81s 52ms/step - loss: 3.9729e-04\n"
     ]
    },
    {
     "data": {
      "text/plain": [
       "<keras.callbacks.callbacks.History at 0x2461434f7c8>"
      ]
     },
     "execution_count": 14,
     "metadata": {},
     "output_type": "execute_result"
    }
   ],
   "source": [
    "model.fit(x_train,y_train, batch_size=1, epochs=100)"
   ]
  },
  {
   "cell_type": "code",
   "execution_count": 15,
   "metadata": {
    "colab": {},
    "colab_type": "code",
    "id": "GGpPd_O48Bzv"
   },
   "outputs": [],
   "source": [
    "#create testing dataset\n",
    "\n",
    "test_data = scaled_data[training_data_len-60: , :]\n",
    "\n",
    "x_test=[]\n",
    "y_test = dataset[training_data_len: , :]\n",
    "\n",
    "for i in range(60, len(test_data)):\n",
    "  x_test.append(test_data[i-60:i, 0])\n"
   ]
  },
  {
   "cell_type": "code",
   "execution_count": 16,
   "metadata": {
    "colab": {},
    "colab_type": "code",
    "id": "0HfAvokL8sr8"
   },
   "outputs": [],
   "source": [
    "x_test = np.array(x_test)\n"
   ]
  },
  {
   "cell_type": "code",
   "execution_count": 17,
   "metadata": {
    "colab": {},
    "colab_type": "code",
    "id": "qiA3hoLq9W7k"
   },
   "outputs": [],
   "source": [
    "x_test = np.reshape(x_test, (x_test.shape[0], x_test.shape[1], 1))"
   ]
  },
  {
   "cell_type": "code",
   "execution_count": 18,
   "metadata": {
    "colab": {},
    "colab_type": "code",
    "id": "dTAuvNJz9jS7"
   },
   "outputs": [],
   "source": [
    "#get the model's predicted price values\n",
    "\n",
    "predictions = model.predict(x_test)\n",
    "predictions = scaler.inverse_transform(predictions)"
   ]
  },
  {
   "cell_type": "code",
   "execution_count": 22,
   "metadata": {
    "colab": {},
    "colab_type": "code",
    "id": "LWyChwiU92Oa"
   },
   "outputs": [
    {
     "data": {
      "text/plain": [
       "3.604530186709846"
      ]
     },
     "execution_count": 22,
     "metadata": {},
     "output_type": "execute_result"
    }
   ],
   "source": [
    "#root mean squared error\n",
    "\n",
    "rmse=np.sqrt(np.mean(((predictions- y_test)**2)))\n",
    "\n",
    "rmse"
   ]
  },
  {
   "cell_type": "code",
   "execution_count": 19,
   "metadata": {
    "colab": {},
    "colab_type": "code",
    "id": "B999bAOn-F2O"
   },
   "outputs": [
    {
     "name": "stderr",
     "output_type": "stream",
     "text": [
      "c:\\users\\abir\\appdata\\local\\programs\\python\\python37\\lib\\site-packages\\ipykernel_launcher.py:3: SettingWithCopyWarning: \n",
      "A value is trying to be set on a copy of a slice from a DataFrame.\n",
      "Try using .loc[row_indexer,col_indexer] = value instead\n",
      "\n",
      "See the caveats in the documentation: https://pandas.pydata.org/pandas-docs/stable/user_guide/indexing.html#returning-a-view-versus-a-copy\n",
      "  This is separate from the ipykernel package so we can avoid doing imports until\n"
     ]
    },
    {
     "data": {
      "image/png": "[encoded data removed]",
      "text/plain": [
       "<Figure size 1152x576 with 1 Axes>"
      ]
     },
     "metadata": {
      "needs_background": "light"
     },
     "output_type": "display_data"
    }
   ],
   "source": [
    "train = data[:training_data_len]\n",
    "valid = data[training_data_len:]\n",
    "valid['Predictions'] = predictions\n",
    "\n",
    "plt.figure(figsize=(16,8))\n",
    "plt.title('Model')\n",
    "plt.xlabel('Date', fontsize=18)\n",
    "plt.ylabel('Close price USD ($)', fontsize=18)\n",
    "plt.plot(train['Close'])\n",
    "plt.plot(valid[['Close', 'Predictions']])\n",
    "plt.legend(['Train', 'Val', 'Predictions'], loc='lower right')\n",
    "plt.show()"
   ]
  },
  {
   "cell_type": "code",
   "execution_count": 20,
   "metadata": {
    "colab": {},
    "colab_type": "code",
    "id": "dfMm9doj_ekm"
   },
   "outputs": [
    {
     "data": {
      "text/html": [
       "<div>\n",
       "<style scoped>\n",
       "    .dataframe tbody tr th:only-of-type {\n",
       "        vertical-align: middle;\n",
       "    }\n",
       "\n",
       "    .dataframe tbody tr th {\n",
       "        vertical-align: top;\n",
       "    }\n",
       "\n",
       "    .dataframe thead th {\n",
       "        text-align: right;\n",
       "    }\n",
       "</style>\n",
       "<table border=\"1\" class=\"dataframe\">\n",
       "  <thead>\n",
       "    <tr style=\"text-align: right;\">\n",
       "      <th></th>\n",
       "      <th>Close</th>\n",
       "      <th>Predictions</th>\n",
       "    </tr>\n",
       "    <tr>\n",
       "      <th>Date</th>\n",
       "      <th></th>\n",
       "      <th></th>\n",
       "    </tr>\n",
       "  </thead>\n",
       "  <tbody>\n",
       "    <tr>\n",
       "      <th>2018-05-17</th>\n",
       "      <td>239.100006</td>\n",
       "      <td>241.553894</td>\n",
       "    </tr>\n",
       "    <tr>\n",
       "      <th>2018-05-18</th>\n",
       "      <td>237.000000</td>\n",
       "      <td>239.634430</td>\n",
       "    </tr>\n",
       "    <tr>\n",
       "      <th>2018-05-21</th>\n",
       "      <td>237.699997</td>\n",
       "      <td>237.774200</td>\n",
       "    </tr>\n",
       "    <tr>\n",
       "      <th>2018-05-22</th>\n",
       "      <td>238.000000</td>\n",
       "      <td>238.074997</td>\n",
       "    </tr>\n",
       "    <tr>\n",
       "      <th>2018-05-23</th>\n",
       "      <td>237.809998</td>\n",
       "      <td>238.244568</td>\n",
       "    </tr>\n",
       "    <tr>\n",
       "      <th>...</th>\n",
       "      <td>...</td>\n",
       "      <td>...</td>\n",
       "    </tr>\n",
       "    <tr>\n",
       "      <th>2019-12-11</th>\n",
       "      <td>221.190002</td>\n",
       "      <td>222.779053</td>\n",
       "    </tr>\n",
       "    <tr>\n",
       "      <th>2019-12-12</th>\n",
       "      <td>226.050003</td>\n",
       "      <td>221.508011</td>\n",
       "    </tr>\n",
       "    <tr>\n",
       "      <th>2019-12-13</th>\n",
       "      <td>225.000000</td>\n",
       "      <td>225.907578</td>\n",
       "    </tr>\n",
       "    <tr>\n",
       "      <th>2019-12-16</th>\n",
       "      <td>228.039993</td>\n",
       "      <td>225.209930</td>\n",
       "    </tr>\n",
       "    <tr>\n",
       "      <th>2019-12-17</th>\n",
       "      <td>231.149994</td>\n",
       "      <td>228.378693</td>\n",
       "    </tr>\n",
       "  </tbody>\n",
       "</table>\n",
       "<p>400 rows × 2 columns</p>\n",
       "</div>"
      ],
      "text/plain": [
       "                 Close  Predictions\n",
       "Date                               \n",
       "2018-05-17  239.100006   241.553894\n",
       "2018-05-18  237.000000   239.634430\n",
       "2018-05-21  237.699997   237.774200\n",
       "2018-05-22  238.000000   238.074997\n",
       "2018-05-23  237.809998   238.244568\n",
       "...                ...          ...\n",
       "2019-12-11  221.190002   222.779053\n",
       "2019-12-12  226.050003   221.508011\n",
       "2019-12-13  225.000000   225.907578\n",
       "2019-12-16  228.039993   225.209930\n",
       "2019-12-17  231.149994   228.378693\n",
       "\n",
       "[400 rows x 2 columns]"
      ]
     },
     "execution_count": 20,
     "metadata": {},
     "output_type": "execute_result"
    }
   ],
   "source": [
    "valid"
   ]
  },
  {
   "cell_type": "code",
   "execution_count": 29,
   "metadata": {
    "colab": {},
    "colab_type": "code",
    "id": "jOHqsUBI_spa"
   },
   "outputs": [
    {
     "data": {
      "text/plain": [
       "array([[218.19608]], dtype=float32)"
      ]
     },
     "execution_count": 29,
     "metadata": {},
     "output_type": "execute_result"
    }
   ],
   "source": [
    "apple_quote = web.DataReader('GS', data_source='yahoo', start='2012-01-01', end='2020-06-05')\n",
    "new_df = apple_quote.filter(['Close'])\n",
    "last_60_days = new_df[-60:].values\n",
    "last_60_days_scaled = scaler.transform(last_60_days)\n",
    "\n",
    "X_test = []\n",
    "X_test.append(last_60_days_scaled)\n",
    "X_test = np.array(X_test)\n",
    "X_test = np.reshape(X_test, (X_test.shape[0], X_test.shape[1], 1))\n",
    "pred_price = model.predict(X_test)\n",
    "pred_price = scaler.inverse_transform(pred_price)\n",
    "pred_price"
   ]
  },
  {
   "cell_type": "code",
   "execution_count": 30,
   "metadata": {
    "colab": {},
    "colab_type": "code",
    "id": "ZrPXlf5KBRCG"
   },
   "outputs": [
    {
     "name": "stdout",
     "output_type": "stream",
     "text": [
      "Date\n",
      "2020-06-05    217.919998\n",
      "Name: Close, dtype: float64\n"
     ]
    }
   ],
   "source": [
    "apple_quote2 = web.DataReader('GS', data_source='yahoo', start='2020-06-06', end='2020-06-06')\n",
    "print(apple_quote2['Close'])"
   ]
  },
  {
   "cell_type": "code",
   "execution_count": null,
   "metadata": {
    "colab": {},
    "colab_type": "code",
    "id": "XaRaCGpSBoBX"
   },
   "outputs": [],
   "source": [
    "\n",
    "\n",
    "\n"
   ]
  },
  {
   "cell_type": "code",
   "execution_count": null,
   "metadata": {},
   "outputs": [],
   "source": []
  }
 ],
 "metadata": {
  "colab": {
   "collapsed_sections": [],
   "name": "Untitled1.ipynb",
   "provenance": []
  },
  "kernelspec": {
   "display_name": "Python 3",
   "language": "python",
   "name": "python3"
  },
  "language_info": {
   "codemirror_mode": {
    "name": "ipython",
    "version": 3
   },
   "file_extension": ".py",
   "mimetype": "text/x-python",
   "name": "python",
   "nbconvert_exporter": "python",
   "pygments_lexer": "ipython3",
   "version": "3.7.7"
  }
 },
 "nbformat": 4,
 "nbformat_minor": 1
}
